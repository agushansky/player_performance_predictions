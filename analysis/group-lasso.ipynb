{
 "cells": [
  {
   "cell_type": "code",
   "execution_count": 1,
   "metadata": {},
   "outputs": [],
   "source": [
    "import pandas as pd\n",
    "import numpy as np\n",
    "\n",
    "from group_lasso import GroupLasso\n",
    "\n",
    "from sklearn.compose import ColumnTransformer\n",
    "from sklearn.metrics import mean_squared_error\n",
    "from sklearn.model_selection import train_test_split, GridSearchCV\n",
    "from sklearn.pipeline import Pipeline\n",
    "from sklearn.preprocessing import PowerTransformer, OneHotEncoder\n",
    "\n",
    "from tqdm import tqdm"
   ]
  },
  {
   "cell_type": "code",
   "execution_count": 3,
   "metadata": {},
   "outputs": [],
   "source": [
    "df = pd.read_csv('../data/final/player-model-data.csv', index_col=0)\n",
    "\n",
    "predictor_cols = df.columns[5:-10].tolist()\n",
    "target_cols = df.columns[-10:].tolist()"
   ]
  },
  {
   "cell_type": "code",
   "execution_count": 4,
   "metadata": {},
   "outputs": [],
   "source": [
    "X_train, X_test, Y_train, Y_test = train_test_split(\n",
    "    df.loc[:, predictor_cols],\n",
    "    df.loc[:, target_cols],\n",
    "    test_size=0.2,\n",
    "    random_state=1897,\n",
    ")"
   ]
  },
  {
   "cell_type": "code",
   "execution_count": 5,
   "metadata": {},
   "outputs": [],
   "source": [
    "onehot_cols = predictor_cols[:4]\n",
    "numeric_cols = predictor_cols[5:]"
   ]
  },
  {
   "cell_type": "code",
   "execution_count": 6,
   "metadata": {},
   "outputs": [],
   "source": [
    "groups = (\n",
    "    [0] * 6\n",
    "    + [1] * 5\n",
    "    + [2] * 5\n",
    "    + [3] * 3\n",
    "    + [4]\n",
    "    + [5] * 17\n",
    "    + [6] * 16\n",
    "    + [7] * 22\n",
    "    + [8] * 23\n",
    "    + [9] * 23\n",
    "    + [10] * 24\n",
    "    + [11] * 3\n",
    "    + [12] * 21\n",
    "    + [-1]  # Don't regularize Age\n",
    ")"
   ]
  },
  {
   "cell_type": "code",
   "execution_count": 84,
   "metadata": {},
   "outputs": [],
   "source": [
    "reg = np.logspace(-6, 0, 7) * 5\n",
    "\n",
    "param_grid = {\n",
    "    'group_lasso_regression__group_reg': reg,\n",
    "    'group_lasso_regression__l1_reg': reg,\n",
    "}"
   ]
  },
  {
   "cell_type": "code",
   "execution_count": 85,
   "metadata": {},
   "outputs": [
    {
     "name": "stderr",
     "output_type": "stream",
     "text": [
      "100%|██████████| 10/10 [45:25<00:00, 272.58s/it]\n"
     ]
    }
   ],
   "source": [
    "models = {}\n",
    "\n",
    "for target_col in tqdm(target_cols):\n",
    "    y_train = Y_train[target_col]\n",
    "    y_test = Y_test[target_col]\n",
    "\n",
    "    col_tf = ColumnTransformer([\n",
    "        ('one_hot_encoder', OneHotEncoder(), onehot_cols),\n",
    "        ('power_transformer', PowerTransformer(), numeric_cols)\n",
    "    ], remainder='passthrough')\n",
    "\n",
    "    pl = Pipeline([\n",
    "        ('column_transformer', col_tf),\n",
    "        ('group_lasso_regression', GroupLasso(\n",
    "            groups=groups,\n",
    "            n_iter=10_000,\n",
    "            tol=1e-3,\n",
    "            scale_reg=None,\n",
    "            frobenius_lipschitz=False,\n",
    "            fit_intercept=True,\n",
    "            random_state=1897,\n",
    "            supress_warning=True,\n",
    "        ))\n",
    "    ])\n",
    "\n",
    "    grid_cv = GridSearchCV(pl, param_grid, scoring='neg_mean_squared_error', cv=5)\n",
    "    grid_cv.fit(X_train, y_train)\n",
    "\n",
    "    models[target_col[:-4]] = grid_cv"
   ]
  },
  {
   "cell_type": "code",
   "execution_count": 86,
   "metadata": {},
   "outputs": [
    {
     "name": "stdout",
     "output_type": "stream",
     "text": [
      "{'group_lasso_regression__group_reg': 0.0005, 'group_lasso_regression__l1_reg': 4.9999999999999996e-06}\n",
      "{'group_lasso_regression__group_reg': 0.0005, 'group_lasso_regression__l1_reg': 0.0005}\n",
      "{'group_lasso_regression__group_reg': 0.0005, 'group_lasso_regression__l1_reg': 0.0005}\n",
      "{'group_lasso_regression__group_reg': 5e-05, 'group_lasso_regression__l1_reg': 0.0005}\n",
      "{'group_lasso_regression__group_reg': 0.0005, 'group_lasso_regression__l1_reg': 4.9999999999999996e-06}\n",
      "{'group_lasso_regression__group_reg': 0.0005, 'group_lasso_regression__l1_reg': 0.0005}\n",
      "{'group_lasso_regression__group_reg': 0.0005, 'group_lasso_regression__l1_reg': 5e-05}\n",
      "{'group_lasso_regression__group_reg': 5e-05, 'group_lasso_regression__l1_reg': 0.0005}\n",
      "{'group_lasso_regression__group_reg': 5e-05, 'group_lasso_regression__l1_reg': 0.0005}\n",
      "{'group_lasso_regression__group_reg': 0.0005, 'group_lasso_regression__l1_reg': 0.0005}\n"
     ]
    }
   ],
   "source": [
    "for m in models:\n",
    "    print(models[m].best_params_)"
   ]
  },
  {
   "cell_type": "code",
   "execution_count": 90,
   "metadata": {},
   "outputs": [],
   "source": [
    "df_2122 = pd.read_csv('../data/final/player-model-data_2021-2022.csv', index_col=0)\n",
    "df_2122 = df_2122.iloc[:, :-10]\n",
    "\n",
    "X_2122 = df_2122.iloc[:, 5:]"
   ]
  },
  {
   "cell_type": "code",
   "execution_count": 91,
   "metadata": {},
   "outputs": [],
   "source": [
    "preds_2122 = []\n",
    "\n",
    "for stat in models:\n",
    "    y_pred = pd.Series(models[stat].predict(X_2122), index=X_2122.index, name=stat)\n",
    "    preds_2122.append(y_pred)\n",
    "\n",
    "preds_2122 = pd.concat(preds_2122, axis=1)"
   ]
  },
  {
   "cell_type": "code",
   "execution_count": 92,
   "metadata": {},
   "outputs": [],
   "source": [
    "preds_2122_scaled = preds_2122.copy()\n",
    "\n",
    "for col in preds_2122_scaled:\n",
    "    min_ = preds_2122_scaled[col].min()\n",
    "    max_ = preds_2122_scaled[col].max()\n",
    "    preds_2122_scaled[col] = (preds_2122_scaled[col] - min_) / (max_ - min_) * 100"
   ]
  },
  {
   "cell_type": "code",
   "execution_count": 93,
   "metadata": {},
   "outputs": [],
   "source": [
    "preds_2122 = df_2122.iloc[:, :5].join(preds_2122)\n",
    "preds_2122_scaled = df_2122.iloc[:, :5].join(preds_2122_scaled)"
   ]
  },
  {
   "cell_type": "code",
   "execution_count": 94,
   "metadata": {},
   "outputs": [],
   "source": [
    "preds_2122.to_csv('../data/output/predictions_2021-2022.csv', index=False)\n",
    "preds_2122_scaled.to_csv('../data/output/predictions-scaled_2021-2022.csv', index=False)"
   ]
  }
 ],
 "metadata": {
  "interpreter": {
   "hash": "1d02567388d78391c70900089103ef07f5a49e967af5d01f9079ff44ca5d7f51"
  },
  "kernelspec": {
   "display_name": "Python 3.9.7 64-bit ('dva-project': conda)",
   "language": "python",
   "name": "python3"
  },
  "language_info": {
   "codemirror_mode": {
    "name": "ipython",
    "version": 3
   },
   "file_extension": ".py",
   "mimetype": "text/x-python",
   "name": "python",
   "nbconvert_exporter": "python",
   "pygments_lexer": "ipython3",
   "version": "3.9.7"
  },
  "orig_nbformat": 4
 },
 "nbformat": 4,
 "nbformat_minor": 2
}
