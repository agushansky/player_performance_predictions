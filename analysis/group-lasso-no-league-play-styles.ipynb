{
 "cells": [
  {
   "cell_type": "code",
   "execution_count": 1,
   "metadata": {},
   "outputs": [],
   "source": [
    "import pandas as pd\n",
    "import numpy as np\n",
    "\n",
    "from group_lasso import GroupLasso\n",
    "\n",
    "from sklearn.compose import ColumnTransformer\n",
    "from sklearn.metrics import mean_squared_error\n",
    "from sklearn.model_selection import train_test_split, GridSearchCV\n",
    "from sklearn.pipeline import Pipeline\n",
    "from sklearn.preprocessing import PowerTransformer, OneHotEncoder\n",
    "\n",
    "from tqdm import tqdm"
   ]
  },
  {
   "cell_type": "markdown",
   "metadata": {},
   "source": [
    "## Build models"
   ]
  },
  {
   "cell_type": "code",
   "execution_count": 5,
   "metadata": {},
   "outputs": [],
   "source": [
    "df = pd.read_csv('../data/final/player-model-data.csv', index_col=0)\n",
    "\n",
    "predictor_cols = df.columns[9:-10].tolist()\n",
    "target_cols = df.columns[-10:].tolist()"
   ]
  },
  {
   "cell_type": "code",
   "execution_count": 7,
   "metadata": {},
   "outputs": [],
   "source": [
    "X_train, X_test, Y_train, Y_test = train_test_split(\n",
    "    df.loc[:, predictor_cols],\n",
    "    df.loc[:, target_cols],\n",
    "    test_size=0.2,\n",
    "    random_state=1897,\n",
    ")"
   ]
  },
  {
   "cell_type": "code",
   "execution_count": 9,
   "metadata": {},
   "outputs": [],
   "source": [
    "onehot_cols = predictor_cols[:1]\n",
    "numeric_cols = predictor_cols[1:]"
   ]
  },
  {
   "cell_type": "code",
   "execution_count": 12,
   "metadata": {},
   "outputs": [],
   "source": [
    "groups = (\n",
    "    [1] * 3  # Position group\n",
    "    + [2]  # 90s\n",
    "    + [3] * 17  # Shooting \n",
    "    + [4] * 16  # Goal / shot creation\n",
    "    + [5] * 22  # Passing\n",
    "    + [6] * 23  # Pass types\n",
    "    + [7] * 23  # Defense\n",
    "    + [8] * 24  # Possession\n",
    "    + [9] * 3  # Miscellaneous\n",
    "    + [10] * 21  # Playing time\n",
    "    + [-1]  # Don't regularize Age\n",
    ")"
   ]
  },
  {
   "cell_type": "code",
   "execution_count": 13,
   "metadata": {},
   "outputs": [],
   "source": [
    "reg = np.logspace(-6, 0, 7) * 5\n",
    "\n",
    "param_grid = {\n",
    "    'group_lasso_regression__group_reg': reg,\n",
    "    'group_lasso_regression__l1_reg': reg,\n",
    "}"
   ]
  },
  {
   "cell_type": "code",
   "execution_count": 14,
   "metadata": {},
   "outputs": [
    {
     "name": "stderr",
     "output_type": "stream",
     "text": [
      "100%|██████████| 10/10 [56:25<00:00, 338.60s/it]\n"
     ]
    }
   ],
   "source": [
    "models = {}\n",
    "\n",
    "for target_col in tqdm(target_cols):\n",
    "    y_train = Y_train[target_col]\n",
    "    y_test = Y_test[target_col]\n",
    "\n",
    "    col_tf = ColumnTransformer([\n",
    "        ('one_hot_encoder', OneHotEncoder(), onehot_cols),\n",
    "        ('power_transformer', PowerTransformer(), numeric_cols)\n",
    "    ], remainder='passthrough')\n",
    "\n",
    "    pl = Pipeline([\n",
    "        ('column_transformer', col_tf),\n",
    "        ('group_lasso_regression', GroupLasso(\n",
    "            groups=groups,\n",
    "            n_iter=10_000,\n",
    "            tol=1e-3,\n",
    "            scale_reg=None,\n",
    "            frobenius_lipschitz=False,\n",
    "            fit_intercept=True,\n",
    "            random_state=1897,\n",
    "            supress_warning=True,\n",
    "        ))\n",
    "    ])\n",
    "\n",
    "    grid_cv = GridSearchCV(pl, param_grid, scoring='neg_mean_squared_error', cv=5)\n",
    "    grid_cv.fit(X_train, y_train)\n",
    "\n",
    "    models[target_col[:-4]] = grid_cv"
   ]
  },
  {
   "cell_type": "markdown",
   "metadata": {},
   "source": [
    "## Model Results"
   ]
  },
  {
   "cell_type": "code",
   "execution_count": 15,
   "metadata": {},
   "outputs": [
    {
     "name": "stdout",
     "output_type": "stream",
     "text": [
      "Gls            {'group_lasso_regression__group_reg': 4.9999999999999996e-06, 'group_lasso_regression__l1_reg': 5e-05}\n",
      "G-xG           {'group_lasso_regression__group_reg': 0.0005, 'group_lasso_regression__l1_reg': 0.0005}\n",
      "SCA            {'group_lasso_regression__group_reg': 0.0005, 'group_lasso_regression__l1_reg': 0.0005}\n",
      "Ast            {'group_lasso_regression__group_reg': 0.0005, 'group_lasso_regression__l1_reg': 5e-05}\n",
      "xA             {'group_lasso_regression__group_reg': 0.0005, 'group_lasso_regression__l1_reg': 4.9999999999999996e-06}\n",
      "TklW           {'group_lasso_regression__group_reg': 5e-05, 'group_lasso_regression__l1_reg': 0.0005}\n",
      "Int            {'group_lasso_regression__group_reg': 4.9999999999999996e-06, 'group_lasso_regression__l1_reg': 0.0005}\n",
      "PressuresSucc  {'group_lasso_regression__group_reg': 0.005, 'group_lasso_regression__l1_reg': 4.9999999999999996e-06}\n",
      "Clr            {'group_lasso_regression__group_reg': 5e-05, 'group_lasso_regression__l1_reg': 0.0005}\n",
      "AerialDuelsWon {'group_lasso_regression__group_reg': 0.0005, 'group_lasso_regression__l1_reg': 0.0005}\n"
     ]
    }
   ],
   "source": [
    "for m in models:\n",
    "    print(f'{m:14s}', models[m].best_params_)"
   ]
  },
  {
   "cell_type": "code",
   "execution_count": 16,
   "metadata": {},
   "outputs": [
    {
     "name": "stdout",
     "output_type": "stream",
     "text": [
      "one_hot_encoder__Pos_DF                             False\n",
      "one_hot_encoder__Pos_FW                             False\n",
      "one_hot_encoder__Pos_MF                             False\n",
      "power_transformer__Age                              False\n",
      "power_transformer__90s                              True\n",
      "power_transformer__Gls_shoot                        True\n",
      "power_transformer__Sh_shoot                         True\n",
      "power_transformer__SoT_shoot                        True\n",
      "power_transformer__SoT%_shoot                       True\n",
      "power_transformer__Sh/90_shoot                      True\n",
      "power_transformer__SoT/90_shoot                     True\n",
      "power_transformer__G/Sh_shoot                       True\n",
      "power_transformer__G/SoT_shoot                      True\n",
      "power_transformer__Dist_shoot                       True\n",
      "power_transformer__FK_shoot                         True\n",
      "power_transformer__PK_shoot                         True\n",
      "power_transformer__PKatt_shoot                      True\n",
      "power_transformer__xG_shoot                         True\n",
      "power_transformer__npxG_shoot                       True\n",
      "power_transformer__npxG/Sh_shoot                    True\n",
      "power_transformer__G-xG_shoot                       True\n",
      "power_transformer__np:G-xG_shoot                    True\n",
      "power_transformer__SCA_gsc                          True\n",
      "power_transformer__SCA90_gsc                        True\n",
      "power_transformer__PassLive_gsc                     True\n",
      "power_transformer__PassDead_gsc                     True\n",
      "power_transformer__Drib_gsc                         True\n",
      "power_transformer__Sh_gsc                           True\n",
      "power_transformer__Fld_gsc                          True\n",
      "power_transformer__Def_gsc                          True\n",
      "power_transformer__GCA_gsc                          True\n",
      "power_transformer__GCA90_gsc                        True\n",
      "power_transformer__PassLive.1_gsc                   True\n",
      "power_transformer__PassDead.1_gsc                   True\n",
      "power_transformer__Drib.1_gsc                       True\n",
      "power_transformer__Sh.1_gsc                         False\n",
      "power_transformer__Fld.1_gsc                        True\n",
      "power_transformer__Def.1_gsc                        True\n",
      "power_transformer__Total Cmp_pass                   False\n",
      "power_transformer__Total Att_pass                   False\n",
      "power_transformer__Total Cmp%_pass                  True\n",
      "power_transformer__Total TotDist_pass               False\n",
      "power_transformer__Total PrgDist_pass               True\n",
      "power_transformer__Short Cmp_pass                   True\n",
      "power_transformer__Short Att_pass                   True\n",
      "power_transformer__Short Cmp%_pass                  False\n",
      "power_transformer__Medium Cmp_pass                  True\n",
      "power_transformer__Medium Att_pass                  True\n",
      "power_transformer__Medium Cmp%_pass                 True\n",
      "power_transformer__Long Cmp_pass                    True\n",
      "power_transformer__Long Att_pass                    True\n",
      "power_transformer__Long Cmp%_pass                   True\n",
      "power_transformer__Ast_pass                         True\n",
      "power_transformer__xA_pass                          True\n",
      "power_transformer__A-xA_pass                        True\n",
      "power_transformer__KP_pass                          True\n",
      "power_transformer__1/3_pass                         True\n",
      "power_transformer__PPA_pass                         True\n",
      "power_transformer__CrsPA_pass                       True\n",
      "power_transformer__Prog_pass                        True\n",
      "power_transformer__Pass Types: Live_pass_type       True\n",
      "power_transformer__Pass Types: Dead_pass_type       True\n",
      "power_transformer__Pass Types: FK_pass_type         True\n",
      "power_transformer__Pass Types: TB_pass_type         True\n",
      "power_transformer__Pass Types: Press_pass_type      True\n",
      "power_transformer__Pass Types: Sw_pass_type         True\n",
      "power_transformer__Pass Types: Crs_pass_type        True\n",
      "power_transformer__Pass Types: CK_pass_type         True\n",
      "power_transformer__Corner Kicks: In_pass_type       True\n",
      "power_transformer__Corner Kicks: Out_pass_type      True\n",
      "power_transformer__Corner Kicks: Str_pass_type      True\n",
      "power_transformer__Height: Ground_pass_type         False\n",
      "power_transformer__Height: Low_pass_type            True\n",
      "power_transformer__Height: High_pass_type           True\n",
      "power_transformer__Body Parts: Left_pass_type       True\n",
      "power_transformer__Body Parts: Right_pass_type      True\n",
      "power_transformer__Body Parts: Head_pass_type       True\n",
      "power_transformer__Body Parts: TI_pass_type         True\n",
      "power_transformer__Body Parts: Other_pass_type      True\n",
      "power_transformer__Outcomes: Off_pass_type          True\n",
      "power_transformer__Outcomes: Out_pass_type          True\n",
      "power_transformer__Outcomes: Int_pass_type          False\n",
      "power_transformer__Outcomes: Blocks_pass_type       False\n",
      "power_transformer__Tackles: Tkl_def                 True\n",
      "power_transformer__Tackles: TklW_def                True\n",
      "power_transformer__Tackles: Def 3rd_def             True\n",
      "power_transformer__Tackles: Mid 3rd_def             True\n",
      "power_transformer__Tackles: Att 3rd_def             True\n",
      "power_transformer__Vs Dribbles: Tkl_def             True\n",
      "power_transformer__Vs Dribbles: Att_def             False\n",
      "power_transformer__Vs Dribbles: Tkl%_def            True\n",
      "power_transformer__Vs Dribbles: Past_def            True\n",
      "power_transformer__Pressures: Press_def             True\n",
      "power_transformer__Pressures: Succ_def              True\n",
      "power_transformer__Pressures: %_def                 True\n",
      "power_transformer__Pressures: Def 3rd_def           True\n",
      "power_transformer__Pressures: Mid 3rd_def           True\n",
      "power_transformer__Pressures: Att 3rd_def           True\n",
      "power_transformer__Blocks: Blocks_def               True\n",
      "power_transformer__Blocks: Sh_def                   True\n",
      "power_transformer__Blocks: ShSv_def                 True\n",
      "power_transformer__Blocks: Pass_def                 True\n",
      "power_transformer__Int_def                          True\n",
      "power_transformer__Tkl+Int_def                      False\n",
      "power_transformer__Clr_def                          True\n",
      "power_transformer__Err_def                          True\n",
      "power_transformer__Touches_poss                     False\n",
      "power_transformer__Def Pen_poss                     True\n",
      "power_transformer__Def 3rd_poss                     True\n",
      "power_transformer__Mid 3rd_poss                     True\n",
      "power_transformer__Att 3rd_poss                     True\n",
      "power_transformer__Att Pen_poss                     True\n",
      "power_transformer__Live_poss                        True\n",
      "power_transformer__Succ_poss                        True\n",
      "power_transformer__Att_poss                         True\n",
      "power_transformer__Succ%_poss                       True\n",
      "power_transformer__#Pl_poss                         True\n",
      "power_transformer__Megs_poss                        True\n",
      "power_transformer__Carries_poss                     True\n",
      "power_transformer__TotDist_poss                     True\n",
      "power_transformer__PrgDist_poss                     True\n",
      "power_transformer__Prog_poss                        True\n",
      "power_transformer__1/3_poss                         True\n",
      "power_transformer__CPA_poss                         True\n",
      "power_transformer__Mis_poss                         True\n",
      "power_transformer__Dis_poss                         True\n",
      "power_transformer__Targ_poss                        False\n",
      "power_transformer__Rec_poss                         True\n",
      "power_transformer__Rec%_poss                        True\n",
      "power_transformer__Prog.1_poss                      True\n",
      "power_transformer__Won_misc                         True\n",
      "power_transformer__Lost_misc                        True\n",
      "power_transformer__Won%_misc                        True\n",
      "power_transformer__MP_time                          True\n",
      "power_transformer__Min_time                         True\n",
      "power_transformer__Mn/MP_time                       True\n",
      "power_transformer__Min%_time                        True\n",
      "power_transformer__Starts_time                      True\n",
      "power_transformer__Mn/Start_time                    True\n",
      "power_transformer__Compl_time                       False\n",
      "power_transformer__Subs_time                        True\n",
      "power_transformer__Mn/Sub_time                      True\n",
      "power_transformer__unSub_time                       True\n",
      "power_transformer__PPM_time                         True\n",
      "power_transformer__onG_time                         True\n",
      "power_transformer__onGA_time                        True\n",
      "power_transformer__+/-_time                         True\n",
      "power_transformer__+/-90_time                       True\n",
      "power_transformer__On-Off_time                      True\n",
      "power_transformer__onxG_time                        True\n",
      "power_transformer__onxGA_time                       True\n",
      "power_transformer__xG+/-_time                       True\n",
      "power_transformer__xG+/-90_time                     True\n",
      "power_transformer__On-Off.1_time                    True\n"
     ]
    }
   ],
   "source": [
    "stat = 'Ast'\n",
    "\n",
    "feature_names = models[stat].best_estimator_['column_transformer'].get_feature_names_out()\n",
    "sparsity_mask = models[stat].best_estimator_['group_lasso_regression'].sparsity_mask_\n",
    "\n",
    "for feature, mask in zip(feature_names, sparsity_mask):\n",
    "    print(f'{feature:51s}', mask)"
   ]
  },
  {
   "cell_type": "code",
   "execution_count": 17,
   "metadata": {},
   "outputs": [
    {
     "name": "stdout",
     "output_type": "stream",
     "text": [
      "Gls            0.0135\n",
      "G-xG           0.0061\n",
      "SCA            0.3628\n",
      "Ast            0.0063\n",
      "xA             0.0028\n",
      "TklW           0.1185\n",
      "Int            0.1197\n",
      "PressuresSucc  0.8643\n",
      "Clr            0.4983\n",
      "AerialDuelsWon 0.3882\n"
     ]
    }
   ],
   "source": [
    "for m in models:\n",
    "    y_pred = models[m].predict(X_test)\n",
    "    y_test = Y_test[f'{m}_tgt']\n",
    "\n",
    "    mse_test = mean_squared_error(y_test, y_pred)\n",
    "    print(f'{m:14s}', f'{mse_test:5.4f}')"
   ]
  }
 ],
 "metadata": {
  "interpreter": {
   "hash": "1d02567388d78391c70900089103ef07f5a49e967af5d01f9079ff44ca5d7f51"
  },
  "kernelspec": {
   "display_name": "Python 3.9.7 64-bit ('dva-project': conda)",
   "language": "python",
   "name": "python3"
  },
  "language_info": {
   "codemirror_mode": {
    "name": "ipython",
    "version": 3
   },
   "file_extension": ".py",
   "mimetype": "text/x-python",
   "name": "python",
   "nbconvert_exporter": "python",
   "pygments_lexer": "ipython3",
   "version": "3.9.7"
  },
  "orig_nbformat": 4
 },
 "nbformat": 4,
 "nbformat_minor": 2
}
