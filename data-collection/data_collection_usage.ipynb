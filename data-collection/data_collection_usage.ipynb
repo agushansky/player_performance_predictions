{
 "cells": [
  {
   "cell_type": "code",
   "execution_count": null,
   "metadata": {},
   "outputs": [],
   "source": [
    "import pandas as pd\n",
    "from datetime import datetime\n",
    "import hashlib"
   ]
  }
 ],
 "metadata": {
  "interpreter": {
   "hash": "4dfc85f56a83f26ee0478f4d5a9045691d91190d9945f6640c39fb888228f79d"
  },
  "kernelspec": {
   "display_name": "Python 3.7.11 64-bit ('dva': conda)",
   "name": "python3"
  },
  "language_info": {
   "name": "python",
   "version": "3.7.11"
  },
  "orig_nbformat": 4
 },
 "nbformat": 4,
 "nbformat_minor": 2
}
