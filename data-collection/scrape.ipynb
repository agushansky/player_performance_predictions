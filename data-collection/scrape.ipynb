{
 "cells": [
  {
   "cell_type": "code",
   "execution_count": 1,
   "metadata": {},
   "outputs": [],
   "source": [
    "import pandas as pd\n",
    "import numpy as np\n",
    "\n",
    "from tqdm import tqdm\n",
    "\n",
    "from ingest import *"
   ]
  },
  {
   "cell_type": "code",
   "execution_count": 2,
   "metadata": {},
   "outputs": [],
   "source": [
    "scrape_funcs = [\n",
    "    ('standard-squads.csv', getStandardStatsSquads),\n",
    "    ('standard-players.csv', getStandardStatsPlayers),\n",
    "    ('goalkeeping-squads.csv', getGoalkeepingStatsSquads),\n",
    "    ('goalkeeping-players.csv', getGoalkeepingStatsPlayers),\n",
    "    ('adv-goalkeeping-squads.csv', getAdvGoalkeepingStatsSquads),\n",
    "    ('adv-goalkeeping-players.csv', getAdvGoalkeepingStatsPlayers),\n",
    "    ('shooting-squads.csv', getShootingStatsSquads),\n",
    "    ('shooting-players.csv', getShootingStatsPlayers),\n",
    "    ('passing-squads.csv', getPassingStatsSquads),\n",
    "    ('passing-players.csv', getPassingStatsPlayers),\n",
    "    ('pass-types-squads.csv', getPassTypesStatsSquads),\n",
    "    ('pass-types-players.csv', getPassTypesStatsPlayers),\n",
    "    ('goal-shot-creating-squads.csv', getGoalShotCreationStatsSquads),\n",
    "    ('goal-shot-creating-players.csv', getGoalShotCreationStatsPlayers),\n",
    "    ('defense-squads.csv', getDefenseStatsSquads),\n",
    "    ('defense-players.csv', getDefenseStatsPlayers),\n",
    "    ('possession-squads.csv', getPossessionStatsSquads),\n",
    "    ('possession-players.csv', getPossessionStatsPlayers),\n",
    "    ('playing-time-squads.csv', getPlayingTimeStatsSquads),\n",
    "    ('playing-time-players.csv', getPlayingTimeStatsPlayers),\n",
    "    ('miscellaneous-squads.csv', getMiscStatsSquads),\n",
    "    ('miscellaneous-players.csv', getMiscStatsPlayers),\n",
    "]"
   ]
  },
  {
   "cell_type": "code",
   "execution_count": 14,
   "metadata": {},
   "outputs": [
    {
     "name": "stderr",
     "output_type": "stream",
     "text": [
      "100%|██████████| 18/18 [17:55<00:00, 59.73s/it]\n"
     ]
    }
   ],
   "source": [
    "for filename, func in tqdm(scrape_funcs):\n",
    "    df = getPreviousSeasons(func, 5)\n",
    "    df.to_csv(f'../data/{filename}', index=False)"
   ]
  }
 ],
 "metadata": {
  "interpreter": {
   "hash": "1d02567388d78391c70900089103ef07f5a49e967af5d01f9079ff44ca5d7f51"
  },
  "kernelspec": {
   "display_name": "Python 3.9.7 64-bit ('dva-project': conda)",
   "name": "python3"
  },
  "language_info": {
   "codemirror_mode": {
    "name": "ipython",
    "version": 3
   },
   "file_extension": ".py",
   "mimetype": "text/x-python",
   "name": "python",
   "nbconvert_exporter": "python",
   "pygments_lexer": "ipython3",
   "version": "3.9.7"
  },
  "orig_nbformat": 4
 },
 "nbformat": 4,
 "nbformat_minor": 2
}
